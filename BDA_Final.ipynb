{
 "cells": [
  {
   "cell_type": "markdown",
   "metadata": {
    "id": "NdSuYQpeHwNM"
   },
   "source": [
    "# Part1:商品向量"
   ]
  },
  {
   "cell_type": "markdown",
   "metadata": {
    "id": "7gadIev5PgBH"
   },
   "source": [
    "Link to google drive"
   ]
  },
  {
   "cell_type": "code",
   "execution_count": null,
   "metadata": {
    "id": "1v91VE5-pW2t"
   },
   "outputs": [],
   "source": [
    "# 環境設定\n",
    "import os\n",
    "import pandas as pd\n",
    "import sys\n",
    "import numpy as np\n",
    "import re\n",
    "import pickle"
   ]
  },
  {
   "cell_type": "code",
   "execution_count": null,
   "metadata": {
    "colab": {
     "base_uri": "https://localhost:8080/",
     "height": 382
    },
    "executionInfo": {
     "elapsed": 10278,
     "status": "error",
     "timestamp": 1654131455076,
     "user": {
      "displayName": "陳柏諭",
      "userId": "13870480101252211370"
     },
     "user_tz": -480
    },
    "id": "iuhwm1bOMwK0",
    "outputId": "9b047c76-2055-44f9-f134-72c1bc22e9e5"
   },
   "outputs": [],
   "source": [
    "# !pip install -U --no-cache-dir gdown --pre\n",
    "# !pip install --upgrade --no-cache-dir gdown\n",
    "from google.colab import drive\n",
    "drive.mount('/content/gdrive')\n",
    "!ls\n",
    "\n",
    "\n",
    "import os\n",
    "import pandas as pd\n",
    "raw_path = os.path.join(os.path.join('/content/gdrive/MyDrive/BDA_Final/Raw'))\n",
    "test_file = pd.read_csv(os.path.join(raw_path, '91APP_DataSet_2022/91APP_SalePageData.csv'))\n",
    "print(test_file)"
   ]
  },
  {
   "cell_type": "code",
   "execution_count": null,
   "metadata": {
    "colab": {
     "base_uri": "https://localhost:8080/"
    },
    "executionInfo": {
     "elapsed": 2620,
     "status": "ok",
     "timestamp": 1654131464032,
     "user": {
      "displayName": "陳柏諭",
      "userId": "13870480101252211370"
     },
     "user_tz": -480
    },
    "id": "jXf8Flo6N9bc",
    "outputId": "588cdc54-5aba-4494-9706-875ceb5d20db"
   },
   "outputs": [],
   "source": [
    "!gdown --id 1YVz3rpIKtZVxC7pxEmTUnpRPtdnGHoEn --output SalePageData.csv"
   ]
  },
  {
   "cell_type": "markdown",
   "metadata": {
    "id": "vkA_mClzQoap"
   },
   "source": [
    "Part 1: 斷詞->產生各詞向量->產生各商品矩陣"
   ]
  },
  {
   "cell_type": "code",
   "execution_count": null,
   "metadata": {
    "colab": {
     "base_uri": "https://localhost:8080/",
     "height": 424
    },
    "executionInfo": {
     "elapsed": 526,
     "status": "ok",
     "timestamp": 1654131466725,
     "user": {
      "displayName": "陳柏諭",
      "userId": "13870480101252211370"
     },
     "user_tz": -480
    },
    "id": "NhQEkpsAPvx4",
    "outputId": "27b2f1e3-5357-4013-8985-7ca4572cd209"
   },
   "outputs": [],
   "source": [
    "# Read SalePage: SalePageId <-> SalePageTitle\n",
    "import os\n",
    "import sys\n",
    "import pandas as pd\n",
    "import numpy as np\n",
    "\n",
    "pages = pd.read_csv(os.path.join('/content', 'SalePageData.csv'))\n",
    "\n",
    "pages # (17742, 2)"
   ]
  },
  {
   "cell_type": "code",
   "execution_count": null,
   "metadata": {
    "colab": {
     "base_uri": "https://localhost:8080/",
     "height": 424
    },
    "executionInfo": {
     "elapsed": 543,
     "status": "ok",
     "timestamp": 1654131480778,
     "user": {
      "displayName": "陳柏諭",
      "userId": "13870480101252211370"
     },
     "user_tz": -480
    },
    "id": "oZzT7KqAj_rQ",
    "outputId": "6c9b4ce7-089e-4c00-9ef6-ca8e43c5855d"
   },
   "outputs": [],
   "source": [
    "# Filter out \"直播\" items (6550)\n",
    "# Items (11192)\n",
    "exclude_mask = pages['SalePageTitle'].str.contains(r'【.*】.*直播$', regex=True)\n",
    "items = pages[~exclude_mask].copy()\n",
    "\n",
    "items"
   ]
  },
  {
   "cell_type": "code",
   "execution_count": null,
   "metadata": {
    "colab": {
     "base_uri": "https://localhost:8080/"
    },
    "executionInfo": {
     "elapsed": 69504,
     "status": "ok",
     "timestamp": 1654131566589,
     "user": {
      "displayName": "陳柏諭",
      "userId": "13870480101252211370"
     },
     "user_tz": -480
    },
    "id": "RXTkE0n7mM1P",
    "outputId": "9a41b72a-5063-4ccd-c876-4f0c4e2658f2"
   },
   "outputs": [],
   "source": [
    "# Prerequistie for ckip-tagger\n",
    "!pip install ckiptagger\n",
    "!pip install tensorflow\n",
    "!pip install gdown\n",
    "from ckiptagger import WS, POS, NER\n",
    "from ckiptagger import data_utils\n",
    "data_utils.download_data_gdown(\"./\")\n",
    "ws = WS(\"./data\")"
   ]
  },
  {
   "cell_type": "code",
   "execution_count": null,
   "metadata": {
    "colab": {
     "base_uri": "https://localhost:8080/"
    },
    "id": "lPKpbJ6SlFV2",
    "outputId": "3ab57f8f-df94-4bfa-f994-71bb0d85a481"
   },
   "outputs": [],
   "source": [
    "# Process each title\n",
    "# Extract color information: -顏色 in the end of the title\n",
    "# Extract size information: (版型偏大/小) after color information\n",
    "# Eliminate emojis\n",
    "# Tokenize with ckip-tagger\n",
    "from tqdm import tqdm\n",
    "import re\n",
    "\n",
    "def process_sentence(x):\n",
    "    # Extract size\n",
    "    size_pattern = r'\\([\\u4e00-\\u9fa5]*\\)$'\n",
    "    size_info= re.search(size_pattern, x)\n",
    "    if size_info is not None: size_info = size_info.group(0)\n",
    "    x = re.sub(size_pattern, '', x)\n",
    "\n",
    "    # Clear emojis\n",
    "    x = re.sub(r'[^\\u4e00-\\u9fa5 | \\w | \\' | \\:| % |\\.]+', ' ', x)\n",
    "\n",
    "    # Extract color\n",
    "    color_pattern = r'\\s([\\u4e00-\\u9fa5]){1,3}$'\n",
    "    color_info = re.search(color_pattern, x)\n",
    "    if color_info is not None: color_info = color_info.group(0)\n",
    "    x = re.sub(color_pattern, '', x)\n",
    "\n",
    "    # Eliminate Ann's\n",
    "    x = re.sub(r'^.*Ann.?s', '', x, flags=re.IGNORECASE)\n",
    "\n",
    "    # Remove space in front/end\n",
    "    x = x.strip()\n",
    "    return x, size_info, color_info\n",
    "\n",
    "def ckip_split(sentence_lst):\n",
    "    ws_results = ws(sentence_lst)\n",
    "    return ws_results\n",
    "    \n",
    "def has_word(str):\n",
    "    return bool(re.search(r'[A-Z | a-z | 0-9]', str))\n",
    "\n",
    "processed_lst = []\n",
    "size_lst = []\n",
    "color_lst = []\n",
    "for title in tqdm(items['SalePageTitle']):\n",
    "    x, sz, cr= process_sentence(title)\n",
    "    processed_lst.append(x)\n",
    "    size_lst.append(sz)\n",
    "    color_lst.append(cr)\n",
    "items['ProcessedTitle'] = processed_lst\n",
    "items['SizeInfo'] = size_lst\n",
    "items['ColorInfo'] = color_lst\n",
    "\n",
    "split_phrases = []\n",
    "long_enough = []\n",
    "for idx, row in tqdm(items.iterrows(), total=items.shape[0]):\n",
    "    sentence_lst = []\n",
    "    if isinstance(row['ProcessedTitle'], str): sentence_lst.append(row['ProcessedTitle'])\n",
    "    if isinstance(row['SizeInfo'], str): sentence_lst.append(row['SizeInfo'])\n",
    "    splitted = ckip_split(sentence_lst)\n",
    "\n",
    "    if row['SizeInfo'] is not None: splitted = splitted[0] + splitted[1]\n",
    "    else: splitted = splitted[0]\n",
    "    split_phrases.append(splitted)\n",
    "\n",
    "    slices_long_enough = [i.strip(' -') for i in splitted if len(i.strip(' -')) >= 2 and not has_word(i.strip())]\n",
    "    if row['ColorInfo'] is not None: slices_long_enough += [row['ColorInfo'].strip()]\n",
    "    long_enough.append(slices_long_enough)\n",
    "    pass\n",
    "items['SplitPhrases'] = split_phrases\n",
    "items['LongEnough'] = long_enough\n",
    "\n",
    "items"
   ]
  },
  {
   "cell_type": "code",
   "execution_count": null,
   "metadata": {
    "colab": {
     "base_uri": "https://localhost:8080/"
    },
    "executionInfo": {
     "elapsed": 1411,
     "status": "ok",
     "timestamp": 1653441455635,
     "user": {
      "displayName": "Chieh-Hung Cheng",
      "userId": "08338419796432546381"
     },
     "user_tz": -480
    },
    "id": "PEguBjSAtqJD",
    "outputId": "b6774a0e-5d55-4f0b-d94d-b122ae6c0128"
   },
   "outputs": [],
   "source": [
    "phrases_series = items['LongEnough']\n",
    "phr_set = [] # 3630 # pseudo-set, actually a list\n",
    "\n",
    "for phrases_lst in tqdm(items['LongEnough']):\n",
    "    for phr in phrases_lst:\n",
    "        if phr not in phr_set: phr_set.append(phr)\n",
    "# phrases = pd.Series(list(phr_set)).to_frame('Phrase')\n",
    "\n",
    "print(phr_set)"
   ]
  },
  {
   "cell_type": "code",
   "execution_count": null,
   "metadata": {
    "colab": {
     "base_uri": "https://localhost:8080/"
    },
    "executionInfo": {
     "elapsed": 12152,
     "status": "ok",
     "timestamp": 1653441468045,
     "user": {
      "displayName": "Chieh-Hung Cheng",
      "userId": "08338419796432546381"
     },
     "user_tz": -480
    },
    "id": "zoQ_0UTMsWzr",
    "outputId": "487399fd-5e6b-4642-b34c-de479e03948b"
   },
   "outputs": [],
   "source": [
    "# Download BERT pretrain model\n",
    "!wget https://storage.googleapis.com/bert_models/2018_11_03/chinese_L-12_H-768_A-12.zip\n",
    "!unzip chinese_L-12_H-768_A-12.zip"
   ]
  },
  {
   "cell_type": "code",
   "execution_count": null,
   "metadata": {
    "colab": {
     "base_uri": "https://localhost:8080/"
    },
    "executionInfo": {
     "elapsed": 7811760,
     "status": "ok",
     "timestamp": 1653449958167,
     "user": {
      "displayName": "Chieh-Hung Cheng",
      "userId": "08338419796432546381"
     },
     "user_tz": -480
    },
    "id": "mFO7oevaozKQ",
    "outputId": "e1cf9efe-2db1-41b1-a87e-279cfa54bd69"
   },
   "outputs": [],
   "source": [
    "# BERT: generate word vector\n",
    "!pip install keras-bert\n",
    "import tensorflow\n",
    "from keras_bert import load_vocabulary\n",
    "from keras_bert import Tokenizer\n",
    "from keras_bert import load_trained_model_from_checkpoint\n",
    "\n",
    "text = phr_set\n",
    "\n",
    "pretrained='/content/chinese_L-12_H-768_A-12'\n",
    "dictpath=os.path.join(pretrained, 'vocab.txt')\n",
    "config_path=os.path.join(pretrained,'bert_config.json')\n",
    "checkpoint_path=os.path.join(pretrained,'bert_model.ckpt')\n",
    "print(\"The pretrained model is loaded\")\n",
    "# 載入中文預訓練好的BERT語料庫\n",
    "\n",
    "model = load_trained_model_from_checkpoint(config_path, checkpoint_path)\n",
    "bert_token_dict=load_vocabulary(dictpath)\n",
    "bert_tokenizer = Tokenizer(bert_token_dict)\n",
    "\n",
    "# Estimated 6 hours\n",
    "num = len(text)\n",
    "data=np.zeros((num ,768))  # 建立空的nparray\n",
    "for i in tqdm(range(0, num)):\n",
    "\ttoken = bert_tokenizer.tokenize(text[i])\n",
    "\tindices, segments=bert_tokenizer.encode(first=text[i], max_len=512)\n",
    "\t# 轉化成向量(向量維度768是預設輸出長度)\n",
    "\tpredicts = model.predict([np.array([indices]), np.array([segments])])[0]\n",
    "\tembedding=predicts[0]\n",
    "\tdata[i,:]=embedding"
   ]
  },
  {
   "cell_type": "code",
   "execution_count": null,
   "metadata": {
    "colab": {
     "base_uri": "https://localhost:8080/",
     "height": 248
    },
    "executionInfo": {
     "elapsed": 5,
     "status": "error",
     "timestamp": 1654153538275,
     "user": {
      "displayName": "吳孟諺",
      "userId": "06226608959340798116"
     },
     "user_tz": -480
    },
    "id": "DI6mAau_QMB-",
    "outputId": "b2062f96-2c9f-4a40-aa96-708cb6c65ee8"
   },
   "outputs": [],
   "source": [
    "# Save output matrix\n",
    "import datetime\n",
    "import pytz\n",
    "from google.colab import files\n",
    "import pickle\n",
    "import numpy as np\n",
    "\n",
    "timenow_str =  datetime.datetime.now(pytz.timezone('Asia/Taipei')).strftime(\"%m%d%H%M\")\n",
    "\n",
    "np.save('array{}.npy'.format(timenow_str), data)\n",
    "files.download('array{}.npy'.format(timenow_str))\n",
    "\n",
    "with open('phrases{}.pkl'.format(timenow_str), 'wb') as f:\n",
    "  pickle.dump(text, f)\n",
    "files.download('phrases{}.pkl'.format(timenow_str))\n",
    "\n",
    "items.to_pickle('items{}.pkl'.format(timenow_str))\n",
    "files.download('items{}.pkl'.format(timenow_str))\n",
    "\n",
    "\n",
    "with open(os.path.join('/content/gdrive/MyDrive/BDA_Final/Results/ckpt_bert', 'array{}.npy'.format(timenow_str)), 'wb') as f:\n",
    "  np.save(f, data)\n",
    "with open(os.path.join('/content/gdrive/MyDrive/BDA_Final/Results/ckpt_bert', 'phrases{}.pkl'.format(timenow_str)), 'wb') as f:\n",
    "  pickle.dump(text, f)\n",
    "with open(os.path.join('/content/gdrive/MyDrive/BDA_Final/Results/ckpt_bert', 'items{}.pkl'.format(timenow_str)), 'wb') as f:\n",
    "  items.to_pickle(f)"
   ]
  },
  {
   "cell_type": "markdown",
   "metadata": {
    "id": "oXrgaqNoSTvP"
   },
   "source": [
    "Vector Dictionary column"
   ]
  },
  {
   "cell_type": "code",
   "execution_count": null,
   "metadata": {
    "colab": {
     "base_uri": "https://localhost:8080/",
     "height": 612
    },
    "executionInfo": {
     "elapsed": 6749,
     "status": "error",
     "timestamp": 1654153518328,
     "user": {
      "displayName": "吳孟諺",
      "userId": "06226608959340798116"
     },
     "user_tz": -480
    },
    "id": "h_aLRaUFgbdc",
    "outputId": "aa9f76a6-f7f9-4dec-d5bc-f91636225a7a"
   },
   "outputs": [],
   "source": [
    "# Load checkpoint for pervious sections\n",
    "import os\n",
    "!gdown --folder --id 1A9iBOw0vb4lX-QvI3sOsoBrVHr27KNmz\n",
    "ckpt_bert_pth = '/content/ckpt_bert'\n",
    "version='05251237'\n",
    "with open(os.path.join(ckpt_bert_pth, 'phrases{}.pkl'.format(version)), 'rb') as fp:\n",
    "    phrase_list = pickle.load(fp)\n",
    "\n",
    "with open(os.path.join(ckpt_bert_pth, 'items{}.pkl'.format(version)), 'rb') as fpl:\n",
    "    item_df = pickle.load(fpl)\n",
    "phrase_array = np.load(os.path.join(ckpt_bert_pth, 'array{}.npy'.format(version)))"
   ]
  },
  {
   "cell_type": "code",
   "execution_count": null,
   "metadata": {
    "id": "GCOoGWs1SSiv"
   },
   "outputs": [],
   "source": [
    "# Generate Columns for Phrases&Vectors for each Title\n",
    "phrase_dict={} \n",
    "# 字典：{標題0:{關鍵字0：向量0,關鍵字1:向量1}}\n",
    "\n",
    "item_df.reset_index(drop=True, inplace=True)\n",
    "for i in range(0,len(phrase_list)):\n",
    "\tphrase_dict[phrase_list[i]] = phrase_array[i]\n",
    "\n",
    "tokens_list=item_df['LongEnough'].tolist()\n",
    "title_list=item_df['SalePageTitle'].tolist()\n",
    "item_vec_dict={}\n",
    "\n",
    "for i in range(0,len(tokens_list)):#len(tokens_list)\n",
    "\ttitle=title_list[i]\n",
    "\titem_vec_dict[title]={}\n",
    "\tfor p in range(0,len(tokens_list[i])):\n",
    "\t\tword=str(tokens_list[i][p])\n",
    "\t\titem_vec_dict[title][word]=phrase_dict[word]\n",
    "\n",
    "# 在item_df新增dict欄位; dict={關鍵字0：向量0,關鍵字1:向量1}\n",
    "item_df[\"dict\"] = \"\"\n",
    "count=0\n",
    "for i in title_list:\n",
    "\titem_df[\"dict\"][count]= item_vec_dict[i]\n",
    "\tcount+=1"
   ]
  },
  {
   "cell_type": "code",
   "execution_count": null,
   "metadata": {
    "id": "bis70FYV13G4"
   },
   "outputs": [],
   "source": [
    "def avg_dict_values(d):\n",
    "  sum_v = 0\n",
    "  for k,v in d.items():\n",
    "      sum_v += v\n",
    "  if len(d.keys()) !=0:\n",
    "    return sum_v / len(d.keys())\n",
    "  else:\n",
    "    return None\n",
    "\n",
    "item_df.drop(columns=['ProcessedTitle','SizeInfo','ColorInfo','SplitPhrases'],inplace=True)\n",
    "item_df.rename(columns={'LongEnough':'Splitted','dict':'Vector'},inplace=True)\n",
    "# 留下SalePageId, SalePageTitle, Splitted, Vector四個欄位\n",
    "\n",
    "item_df[\"Vector_avg\"] = item_df.Vector.apply(lambda x:avg_dict_values(x))"
   ]
  },
  {
   "cell_type": "code",
   "execution_count": null,
   "metadata": {
    "colab": {
     "base_uri": "https://localhost:8080/",
     "height": 624
    },
    "executionInfo": {
     "elapsed": 8,
     "status": "ok",
     "timestamp": 1653753860885,
     "user": {
      "displayName": "陳岳緯",
      "userId": "01921367673977899953"
     },
     "user_tz": -480
    },
    "id": "TFgwpUizZpP9",
    "outputId": "a25c8b12-fb9a-4174-a5e4-d5c35504937d"
   },
   "outputs": [],
   "source": [
    "item_df"
   ]
  },
  {
   "cell_type": "code",
   "execution_count": null,
   "metadata": {
    "id": "RmoQUcUlwnVg"
   },
   "outputs": [],
   "source": [
    "# Generate a Dictionary of Phrases(3630) to Vector(768,)\n",
    "phrase_vec_dict = {}\n",
    "\n",
    "for i in range(len(phrase_list)):\n",
    "  phrase_vec_dict[phrase_list[i]] = phrase_array[i, :]\n",
    "\n",
    "phrase_vec_df = pd.DataFrame(phrase_vec_dict.items(), columns=['Phrase', 'Vector'])"
   ]
  },
  {
   "cell_type": "code",
   "execution_count": null,
   "metadata": {
    "colab": {
     "base_uri": "https://localhost:8080/",
     "height": 428
    },
    "executionInfo": {
     "elapsed": 601,
     "status": "error",
     "timestamp": 1653753712934,
     "user": {
      "displayName": "陳岳緯",
      "userId": "01921367673977899953"
     },
     "user_tz": -480
    },
    "id": "9nrz7PuPTNMr",
    "outputId": "9d4ac368-10bf-4772-c480-5a5481351343"
   },
   "outputs": [],
   "source": [
    "# Save Output Dataframe: ID, Title, Splitted(list of phrases), Vector(dictionary with Phrases(appear in title) <-> Vector (BERT generated (768,)))\n",
    "import datetime\n",
    "import pytz\n",
    "from google.colab import files\n",
    "import pickle\n",
    "\n",
    "timenow_str =  datetime.datetime.now(pytz.timezone('Asia/Taipei')).strftime(\"%m%d%H%M\")\n",
    "\n",
    "item_df.to_pickle('SalePageWithPhrasesVectors{}.pkl'.format(timenow_str))\n",
    "files.download('SalePageWithPhrasesVectors{}.pkl'.format(timenow_str))\n",
    "\n",
    "phrase_vec_df.to_pickle('PhraseVector{}.pkl'.format(timenow_str))\n",
    "files.download('PhraseVector{}.pkl'.format(timenow_str))\n",
    "\n",
    "item_df.to_pickle(os.path.join('/content/gdrive/MyDrive/BDA_Final/Results/Items&Phrases', 'SalePageWithPhrasesVectors{}.pkl'.format(timenow_str)))\n",
    "phrase_vec_df.to_pickle(os.path.join('/content/gdrive/MyDrive/BDA_Final/Results/Items&Phrases', 'PhraseVector{}.pkl').format(timenow_str))"
   ]
  },
  {
   "cell_type": "markdown",
   "metadata": {
    "id": "1dp418hLlApd"
   },
   "source": [
    "# Part2: 會員向量"
   ]
  },
  {
   "cell_type": "code",
   "execution_count": null,
   "metadata": {
    "id": "FgBZqybVgZrf"
   },
   "outputs": [],
   "source": [
    "# 環境設定\n",
    "import os\n",
    "import pandas as pd\n",
    "import sys\n",
    "import numpy as np\n",
    "import re\n",
    "import pickle"
   ]
  },
  {
   "cell_type": "code",
   "execution_count": null,
   "metadata": {
    "colab": {
     "base_uri": "https://localhost:8080/"
    },
    "executionInfo": {
     "elapsed": 6627,
     "status": "ok",
     "timestamp": 1653735559895,
     "user": {
      "displayName": "陳宜靚",
      "userId": "17299731754309895099"
     },
     "user_tz": -480
    },
    "id": "n-ilXrMBzzjM",
    "outputId": "2cd3d94f-ebf4-4005-ddca-b7373b425d45"
   },
   "outputs": [],
   "source": [
    "# 載入Part1 的 output：OneVectorVersion dataframe,TwoVectorVersion dataframe\n",
    "!gdown --folder --id 1VSrGhg_WLbpep0D9i4thlaz8eJLGm8wL\n",
    "part1_path = '/content/Items&Phrases'\n",
    "version = '05251401'\n",
    "item_df = pd.read_pickle(os.path.join(part1_path, 'SalePageWithPhrasesVectors{}.pkl'.format(version)))\n",
    "phrase2vector_df= pd.read_pickle(os.path.join(part1_path,  'PhraseVector{}.pkl'.format(version)))"
   ]
  },
  {
   "cell_type": "code",
   "execution_count": null,
   "metadata": {
    "colab": {
     "base_uri": "https://localhost:8080/",
     "height": 624
    },
    "executionInfo": {
     "elapsed": 411,
     "status": "ok",
     "timestamp": 1653752577036,
     "user": {
      "displayName": "陳岳緯",
      "userId": "01921367673977899953"
     },
     "user_tz": -480
    },
    "id": "ar0vaCbw0R8G",
    "outputId": "c62722f8-6f51-42b6-d276-f45cf71e8f4c"
   },
   "outputs": [],
   "source": [
    "''' \n",
    "Desciption: Aggregated Version of the original SalePageData, information including: \n",
    "  SalePageId:[String] Can be mapped to 'SalePageId' in behavior data <-話說好像有些viewproduct、add、checkout、purchase的行為有SalePAgeId, 但是對應不到SalePageTitle\n",
    "  SalePageTitle: [String]\n",
    "  Splitted: [list] 斷詞並篩選後的剩下的詞\n",
    "  Vector: [Dict] 每個Splitted裡的詞對應的向量(768, )\n",
    "'''\n",
    "item_df"
   ]
  },
  {
   "cell_type": "code",
   "execution_count": null,
   "metadata": {
    "colab": {
     "base_uri": "https://localhost:8080/",
     "height": 424
    },
    "executionInfo": {
     "elapsed": 272,
     "status": "ok",
     "timestamp": 1653459682060,
     "user": {
      "displayName": "陳宜靚",
      "userId": "17299731754309895099"
     },
     "user_tz": -480
    },
    "id": "qVWPIwGZ1UIQ",
    "outputId": "19dc5220-fd3a-4af3-d1b4-f758a5743e82"
   },
   "outputs": [],
   "source": [
    "'''\n",
    "Discription: 詞(不重複，共3630個) 對應到的 Vector(BERT生成，每個768維)\n",
    "或許你們用的到?\n",
    "'''\n",
    "phrase2vector_df"
   ]
  },
  {
   "cell_type": "markdown",
   "metadata": {
    "id": "ANdzZYkJf4gt"
   },
   "source": [
    "#### 讀入會員行為資料(201806-202012)"
   ]
  },
  {
   "cell_type": "code",
   "execution_count": null,
   "metadata": {
    "colab": {
     "base_uri": "https://localhost:8080/"
    },
    "executionInfo": {
     "elapsed": 32620,
     "status": "ok",
     "timestamp": 1654134579905,
     "user": {
      "displayName": "陳柏諭",
      "userId": "13870480101252211370"
     },
     "user_tz": -480
    },
    "id": "7L8g7Rszf1m1",
    "outputId": "9fdaeed7-429a-4377-8d16-ef79bf272fa8"
   },
   "outputs": [],
   "source": [
    "# 201806-201812\n",
    "!gdown --id '1MbGXfWAwTe7GdAxmyyS9i3JfC9z_9l7w' --output 91APP_BehaviorData_20180601.csv\n",
    "!gdown --id '1B_LNLxeEQFmJq6_GqJMsurASUbntXpGn' --output 91APP_BehaviorData_20180701.csv\n",
    "!gdown --id '1YOWE7clQ6R7F0C7zxolx8_H7t9IbimZl' --output 91APP_BehaviorData_20180801.csv\n",
    "!gdown --id '1OOosr9kcJttOPQr55Si5ImCHi-HVCtTj' --output 91APP_BehaviorData_20180901.csv\n",
    "!gdown --id '14EnXGrQ2rItnMw6FVylkAuuTNgmjvYaX' --output 91APP_BehaviorData_20181001.csv\n",
    "!gdown --id '13nE7MxOr5gpOPGPO9746jJNF_YkRbcsv' --output 91APP_BehaviorData_20181101.csv\n",
    "!gdown --id '1aeQZDBJghtkXH1Ul34GCdjvjMMcsNkD0' --output 91APP_BehaviorData_20181201.csv"
   ]
  },
  {
   "cell_type": "code",
   "execution_count": null,
   "metadata": {
    "colab": {
     "base_uri": "https://localhost:8080/"
    },
    "executionInfo": {
     "elapsed": 64352,
     "status": "ok",
     "timestamp": 1654134653754,
     "user": {
      "displayName": "陳柏諭",
      "userId": "13870480101252211370"
     },
     "user_tz": -480
    },
    "id": "82LsskvRgGDw",
    "outputId": "d2805265-d69e-4f44-8f1e-514c129850e9"
   },
   "outputs": [],
   "source": [
    "# 201901-201912\n",
    "!gdown --id '1nuPR_g4UKR8JjBbtXZtIpLpnlg-LmwFf' --output 91APP_BehaviorData_20190101.csv\n",
    "!gdown --id '1WOkXxrgAtwT5X34rneoklLTJ5Ux21v3z' --output 91APP_BehaviorData_20190201.csv\n",
    "!gdown --id '1JHR3_hZi5A58H6J2-c-AQZx3DD-TlCcw' --output 91APP_BehaviorData_20190301.csv\n",
    "!gdown --id '13-2X4xs1H9qT7qjSJecOlJvhjV7_hWjA' --output 91APP_BehaviorData_20190401.csv\n",
    "!gdown --id '18pX-Pd6v9d_dQ1h2wNFYk6L5HQ9RPLv_' --output 91APP_BehaviorData_20190501.csv\n",
    "!gdown --id '1IaC3fM7DsGo91EaiFWHBFRKj4eimiSjR' --output 91APP_BehaviorData_20190601.csv\n",
    "!gdown --id '1KdC-V2FE9KSXmpQmdppZ30zSSeyqMgrk' --output 91APP_BehaviorData_20190701.csv\n",
    "!gdown --id '1ZKL2hJopqRTrZxBCFvqCrP9Xqi_neAt4' --output 91APP_BehaviorData_20190801.csv\n",
    "!gdown --id '1SK4cMqMMfN7gamLyFUC4pMLJc0WirmRt' --output 91APP_BehaviorData_20190901.csv\n",
    "!gdown --id '17kH5eF9JmAAlzAKUqZLe4q6d8Yz0qB7e' --output 91APP_BehaviorData_20191001.csv\n",
    "!gdown --id '1niVVjV_n15zSq8sln9i4fc-GFNs2dOMP' --output 91APP_BehaviorData_20191101.csv\n",
    "!gdown --id '1e5DO0S7aMz2uFVFw4Sjn73J6QXzP89gO' --output 91APP_BehaviorData_20191201.csv"
   ]
  },
  {
   "cell_type": "code",
   "execution_count": null,
   "metadata": {
    "colab": {
     "base_uri": "https://localhost:8080/"
    },
    "executionInfo": {
     "elapsed": 34431,
     "status": "ok",
     "timestamp": 1654134694405,
     "user": {
      "displayName": "陳柏諭",
      "userId": "13870480101252211370"
     },
     "user_tz": -480
    },
    "id": "Uo-HgF1ZgIMl",
    "outputId": "7244307b-aaa2-4614-a38d-56ef4f3d4464"
   },
   "outputs": [],
   "source": [
    "# 202001-202006\n",
    "!gdown --id '1F_1gAyEtmlW6NRQaHySCRLWtyFmN_7IK' --output 91APP_BehaviorData_20200101.csv\n",
    "!gdown --id '1RZavefjlWwECDTHGtzT751HNg4h8m_BO' --output 91APP_BehaviorData_20200201.csv\n",
    "!gdown --id '1e4C7YARl6ZICO3NYr740NGhx7QQn3jJs' --output 91APP_BehaviorData_20200301.csv\n",
    "!gdown --id '1VNJSqsJpV-CtRse7aA5K0GPDMWloxEml' --output 91APP_BehaviorData_20200401.csv\n",
    "!gdown --id '1DAbArrKDDmAefsZBDZk7SXeg0eYKNgWa' --output 91APP_BehaviorData_20200501.csv\n",
    "!gdown --id '1_gxCmW5vRSozvrE23HdAX7yZS6mhaDXt' --output 91APP_BehaviorData_20200601.csv"
   ]
  },
  {
   "cell_type": "code",
   "execution_count": null,
   "metadata": {
    "colab": {
     "base_uri": "https://localhost:8080/"
    },
    "executionInfo": {
     "elapsed": 143858,
     "status": "ok",
     "timestamp": 1654134842464,
     "user": {
      "displayName": "陳柏諭",
      "userId": "13870480101252211370"
     },
     "user_tz": -480
    },
    "id": "VYTX_9j6gKqC",
    "outputId": "594379e9-2332-49b4-d05f-9e406827dd54"
   },
   "outputs": [],
   "source": [
    "df_all = pd.DataFrame()\n",
    "ymd = ['20180601', '20180701', '20180801', '20180901', '20181001', '20181101', '20181201', \n",
    "       '20190101', '20190201', '20190301', '20190401', '20190501', '20190601', '20190701', \n",
    "       '20190801', '20190901', '20191001', '20191101', '20191201', '20200101', '20200201', \n",
    "       '20200301', '20200401', '20200501', '20200601']\n",
    "usecols = ['MemberId', 'HitTime', 'Behavior', 'SalePageId', 'EventTime']\n",
    "\n",
    "#讀檔\n",
    "for i in ymd:\n",
    "    df = pd.read_csv('/content/91APP_BehaviorData_'+i+'.csv', usecols=usecols, low_memory=False)\n",
    "    #刪除NaN\n",
    "    df = df.dropna(axis=0,how='any')\n",
    "    #合併df\n",
    "    df_all = df_all.append([df])\n",
    "    print(i+' finished')\n",
    "#重新編號\n",
    "df_all.index = range(len(df_all))\n",
    "print(df_all)"
   ]
  },
  {
   "cell_type": "code",
   "execution_count": null,
   "metadata": {
    "colab": {
     "base_uri": "https://localhost:8080/",
     "height": 365
    },
    "executionInfo": {
     "elapsed": 13730,
     "status": "error",
     "timestamp": 1654134918218,
     "user": {
      "displayName": "陳柏諭",
      "userId": "13870480101252211370"
     },
     "user_tz": -480
    },
    "id": "UWj_kSahgQSz",
    "outputId": "99a2d1bd-b956-4267-d6f5-5ee4a3421164"
   },
   "outputs": [],
   "source": [
    "#整理時間資料(注意跑很久很耗RAM)\n",
    "from datetime import timedelta\n",
    "df_all['HitDateTime'] = df_all['HitTime'].apply(lambda x:pd.to_datetime(x,unit='ms')+timedelta(hours=8))\n",
    "df_all['EventDateTime'] = df_all['EventTime'].apply(lambda x:pd.to_datetime(x,unit='ms')+timedelta(hours=8))"
   ]
  },
  {
   "cell_type": "code",
   "execution_count": null,
   "metadata": {
    "id": "ey8w08_6gNqj"
   },
   "outputs": [],
   "source": [
    "#存df_all\n",
    "try:    # 先存 excel\n",
    "    fname='MembersBehavior'+\".xlsx\"\n",
    "    writer = pd.ExcelWriter(fname)\n",
    "    df_all.to_excel(writer,'Sheet1',encoding='utf-8')\n",
    "    writer.save()\n",
    "except:   # error 再存 pickle\n",
    "    fname='MembersBehavior'+\".pkl\"\n",
    "    with open(fname, \"wb\") as fp: \n",
    "        pickle.dump(df_all, fp)   \n",
    "print ('save ', fname)  "
   ]
  },
  {
   "cell_type": "code",
   "execution_count": null,
   "metadata": {
    "colab": {
     "base_uri": "https://localhost:8080/"
    },
    "executionInfo": {
     "elapsed": 4210,
     "status": "ok",
     "timestamp": 1654134925390,
     "user": {
      "displayName": "陳柏諭",
      "userId": "13870480101252211370"
     },
     "user_tz": -480
    },
    "id": "_MD-KhPFpTQJ",
    "outputId": "94b757a5-5e82-46d4-d8b3-e8ec15253940"
   },
   "outputs": [],
   "source": [
    "!gdown --id '11u1K6il5PWQ-wsObkrSzbYVNnIxgxfe5' --output MembersBehavior_timechanged.pkl"
   ]
  },
  {
   "cell_type": "code",
   "execution_count": null,
   "metadata": {
    "colab": {
     "base_uri": "https://localhost:8080/",
     "height": 424
    },
    "executionInfo": {
     "elapsed": 1444,
     "status": "ok",
     "timestamp": 1654134929484,
     "user": {
      "displayName": "陳柏諭",
      "userId": "13870480101252211370"
     },
     "user_tz": -480
    },
    "id": "ZihVqYP1gpHu",
    "outputId": "1abc18a3-aea0-4d7e-ab3b-5a3cde5f97c2"
   },
   "outputs": [],
   "source": [
    "#讀整理後的pickle檔\n",
    "MembersBehavior = pd.read_pickle('/content/MembersBehavior_timechanged.pkl')\n",
    "MembersBehavior"
   ]
  },
  {
   "cell_type": "markdown",
   "metadata": {
    "id": "fY0WIF1Hn-4y"
   },
   "source": [
    "####補資料(202007-202012)"
   ]
  },
  {
   "cell_type": "code",
   "execution_count": null,
   "metadata": {
    "id": "MAGtKdp9oC3R"
   },
   "outputs": [],
   "source": [
    "# 202007-202012\n",
    "!gdown --id '1uaawxG0b5OJn9yvdho2R9PkKnga1j3tI' --output 91APP_BehaviorData_20200701.csv\n",
    "!gdown --id '1Ua5GdDYfAFeUaECKcS2v0aJSgcMY1tHl' --output 91APP_BehaviorData_20200801.csv\n",
    "!gdown --id '1lG3lmlxXkdFknEsoc-ZwuhB23AqOl-YY' --output 91APP_BehaviorData_20200901.csv\n",
    "!gdown --id '1Ka_ha0qxumklldLBlvmD3D2c8fOcbRlG' --output 91APP_BehaviorData_20201001.csv\n",
    "!gdown --id '1Tbb1GqOhBTthe7HUAODdRmGClkAsmosq' --output 91APP_BehaviorData_20201101.csv\n",
    "!gdown --id '1sc4EGutXpeYHn4FhH2qIrEPf369yzCCT' --output 91APP_BehaviorData_20201201.csv"
   ]
  },
  {
   "cell_type": "code",
   "execution_count": null,
   "metadata": {
    "id": "eKZ7lhxAoKFC"
   },
   "outputs": [],
   "source": [
    "df_all = pd.DataFrame()\n",
    "ymd = ['20200701', '20200801', '20200901', '20201001', '20201101', '20201201']\n",
    "usecols = ['MemberId', 'HitTime', 'Behavior', 'SalePageId', 'EventTime']\n",
    "\n",
    "#讀檔\n",
    "for i in ymd:\n",
    "    df = pd.read_csv('/content/91APP_BehaviorData_'+i+'.csv', usecols=usecols, low_memory=False)\n",
    "    #刪除NaN\n",
    "    df = df.dropna(axis=0,how='any')\n",
    "    #合併df\n",
    "    df_all = df_all.append([df])\n",
    "    print(i+' finished')\n",
    "#重新編號\n",
    "df_all.index = range(len(df_all))\n",
    "print(df_all)"
   ]
  },
  {
   "cell_type": "code",
   "execution_count": null,
   "metadata": {
    "id": "th4_Cf2moMMJ"
   },
   "outputs": [],
   "source": [
    "#整理時間資料\n",
    "from datetime import timedelta\n",
    "df_all['HitDateTime'] = df_all['HitTime'].apply(lambda x:pd.to_datetime(x,unit='ms')+timedelta(hours=8))\n",
    "df_all['EventDateTime'] = df_all['EventTime'].apply(lambda x:pd.to_datetime(x,unit='ms')+timedelta(hours=8))"
   ]
  },
  {
   "cell_type": "code",
   "execution_count": null,
   "metadata": {
    "id": "XgphtBuxoQ9j"
   },
   "outputs": [],
   "source": [
    "import pickle\n",
    "\n",
    "#存df_all\n",
    "try:    # 先存 excel\n",
    "    fname='MembersBehavior_v2'+\".xlsx\"\n",
    "    writer = pd.ExcelWriter(fname)\n",
    "    df_all.to_excel(writer,'Sheet1',encoding='utf-8')\n",
    "    writer.save()\n",
    "except:   # error 再存 pickle\n",
    "    fname='MembersBehavior_v2'+\".pkl\"\n",
    "    with open(fname, \"wb\") as fp: \n",
    "        pickle.dump(df_all, fp)   \n",
    "print ('save ', fname)"
   ]
  },
  {
   "cell_type": "markdown",
   "metadata": {
    "id": "-cz90yImoZP5"
   },
   "source": [
    "###整合201806-202012會員行為資料"
   ]
  },
  {
   "cell_type": "code",
   "execution_count": null,
   "metadata": {
    "colab": {
     "base_uri": "https://localhost:8080/"
    },
    "executionInfo": {
     "elapsed": 1888,
     "status": "ok",
     "timestamp": 1654133124474,
     "user": {
      "displayName": "陳柏諭",
      "userId": "13870480101252211370"
     },
     "user_tz": -480
    },
    "id": "0b7CuSs0kdwW",
    "outputId": "ff002ab8-3c88-41ed-8455-d5a5e56a4ffb"
   },
   "outputs": [],
   "source": [
    "#補資料(202007-202012)\n",
    "!gdown --id '1RSwUysCRV_CAA-Ipr7dMht6MITYTbNwZ' --output MembersBehavior_v2.pkl"
   ]
  },
  {
   "cell_type": "code",
   "execution_count": null,
   "metadata": {
    "colab": {
     "base_uri": "https://localhost:8080/",
     "height": 424
    },
    "executionInfo": {
     "elapsed": 1591,
     "status": "ok",
     "timestamp": 1654134525459,
     "user": {
      "displayName": "陳柏諭",
      "userId": "13870480101252211370"
     },
     "user_tz": -480
    },
    "id": "APlDaWAUknYH",
    "outputId": "6c78abad-6172-452c-8872-7f70c9a35c44"
   },
   "outputs": [],
   "source": [
    "#讀整理後的pickle檔\n",
    "MembersBehavior_v2 = pd.read_pickle('/content/MembersBehavior_v2.pkl')\n",
    "MembersBehavior_v2"
   ]
  },
  {
   "cell_type": "code",
   "execution_count": null,
   "metadata": {
    "id": "twVFiBg4kpJt"
   },
   "outputs": [],
   "source": [
    "#整合201806-202012會員行為資料\n",
    "MembersBehavior = MembersBehavior.append([MembersBehavior_v2])"
   ]
  },
  {
   "cell_type": "code",
   "execution_count": null,
   "metadata": {
    "colab": {
     "base_uri": "https://localhost:8080/"
    },
    "executionInfo": {
     "elapsed": 101491,
     "status": "ok",
     "timestamp": 1654135208733,
     "user": {
      "displayName": "陳柏諭",
      "userId": "13870480101252211370"
     },
     "user_tz": -480
    },
    "id": "JsHhDpoRGi-_",
    "outputId": "f27d8063-ba01-48f0-d2e6-a519713c18d8"
   },
   "outputs": [],
   "source": [
    "# 只留下曾有購買紀錄的member\n",
    "ever_purchase_memberId_list = MembersBehavior[MembersBehavior[\"Behavior\"]==\"purchase\"].MemberId.unique()\n",
    "Members_df = MembersBehavior.set_index(\"MemberId\")\n",
    "Members_df = Members_df.loc[ever_purchase_memberId_list,:]\n",
    "Members_df = Members_df.reset_index()\n",
    "\n",
    "# 與關鍵字向量合併\n",
    "score_dict = {\"checkout\":1, \"viewproduct\":2, \"add\":4, \"purchase\":8}\n",
    "merge_df = Members_df.merge(item_df, on=\"SalePageId\")\n",
    "merge_df = merge_df.loc[:,[\"MemberId\", \"Behavior\", \"Vector_avg\"]]\n",
    "merge_df[\"score\"] = merge_df.Behavior.apply(lambda x : score_dict[x])\n",
    "\n",
    "merge_vector_df = merge_df.groupby(\"MemberId\").apply(lambda x: np.average(x['Vector_avg'], weights=x['score']))\n",
    "merge_vector_df"
   ]
  },
  {
   "cell_type": "code",
   "execution_count": null,
   "metadata": {
    "id": "wl5P5S0db_Cf"
   },
   "outputs": [],
   "source": [
    "# merge_vector_df.to_pickle(\"vector_df.pkl\")"
   ]
  },
  {
   "cell_type": "markdown",
   "metadata": {
    "id": "_adAhtUplkM_"
   },
   "source": [
    "# Part3"
   ]
  },
  {
   "cell_type": "code",
   "execution_count": null,
   "metadata": {
    "id": "gt2qKo8bzxFV"
   },
   "outputs": [],
   "source": [
    "\n",
    "\"\"\"\n",
    "Naive Idea:\n",
    "1. Dimension Reduction to product data and user behavioral data -> PCA\n",
    "2. Use Cosines Similarity to rank product recommended\n",
    "3. Choose the top K product\n",
    "4. Examine if the user do buy the product in the future (time frame : 6 months)\n",
    "\"\"\"\n"
   ]
  },
  {
   "cell_type": "code",
   "execution_count": null,
   "metadata": {
    "id": "wzC347z5pBZo"
   },
   "outputs": [],
   "source": [
    "import pandas as pd\n",
    "import random\n",
    "from sklearn.metrics.pairwise import cosine_similarity"
   ]
  },
  {
   "cell_type": "code",
   "execution_count": null,
   "metadata": {
    "colab": {
     "base_uri": "https://localhost:8080/"
    },
    "executionInfo": {
     "elapsed": 11230,
     "status": "ok",
     "timestamp": 1654155345134,
     "user": {
      "displayName": "吳孟諺",
      "userId": "06226608959340798116"
     },
     "user_tz": -480
    },
    "id": "dVur8APokzqu",
    "outputId": "c4fd697c-491f-4449-9581-f85efb4afbf7"
   },
   "outputs": [],
   "source": [
    "#商品向量(Part1最終結果)\n",
    "!gdown --id '1BKV0_PgPAjD729DZY3RRMZlSGMib4cID' --output item_df.pkl\n",
    "#會員向量(Part2最終結果)\n",
    "!gdown --id '1Kj3PEMq9LI-Vd9oTuPztyNLR9kZQC7wJ' --output vector_df.pkl\n",
    "!gdown --id 1YVz3rpIKtZVxC7pxEmTUnpRPtdnGHoEn --output SalePageData.csv"
   ]
  },
  {
   "cell_type": "code",
   "execution_count": null,
   "metadata": {
    "executionInfo": {
     "elapsed": 1292,
     "status": "ok",
     "timestamp": 1654157299666,
     "user": {
      "displayName": "吳孟諺",
      "userId": "06226608959340798116"
     },
     "user_tz": -480
    },
    "id": "4oTvzNaDpWEp"
   },
   "outputs": [],
   "source": [
    "#讀整理後的pickle檔\n",
    "members_df = pd.read_pickle('/content/vector_df.pkl')\n",
    "item_df = pd.read_pickle('/content/item_df.pkl')"
   ]
  },
  {
   "cell_type": "code",
   "execution_count": null,
   "metadata": {
    "colab": {
     "base_uri": "https://localhost:8080/",
     "height": 606
    },
    "executionInfo": {
     "elapsed": 319,
     "status": "ok",
     "timestamp": 1653810431643,
     "user": {
      "displayName": "吳孟諺",
      "userId": "06226608959340798116"
     },
     "user_tz": -480
    },
    "id": "uocNIVBvyHej",
    "outputId": "09197021-f96d-4902-f300-aaa762f32205"
   },
   "outputs": [],
   "source": [
    "item_df"
   ]
  },
  {
   "cell_type": "code",
   "execution_count": null,
   "metadata": {
    "colab": {
     "base_uri": "https://localhost:8080/",
     "height": 382
    },
    "executionInfo": {
     "elapsed": 275123,
     "status": "error",
     "timestamp": 1654132972721,
     "user": {
      "displayName": "陳柏諭",
      "userId": "13870480101252211370"
     },
     "user_tz": -480
    },
    "id": "I4QUe2mv80uJ",
    "outputId": "0202fb8e-6ff3-4786-daff-f69fe9811f0b"
   },
   "outputs": [],
   "source": [
    "#for a given person\n",
    "for person in sampling_list:\n",
    "  rank_list = []\n",
    "  for product in range(1, item_df.shape[0]):\n",
    "      if product not in [635, 1423]:\n",
    "        rank_list.append([item_df[\"SalePageTitle\"][product],float(cosine_similarity(members_df[person].reshape(1,-1), item_df[\"Vector_avg\"][product].reshape(1,-1)))])\n",
    "      "
   ]
  },
  {
   "cell_type": "code",
   "execution_count": null,
   "metadata": {
    "id": "s85l6wd5Ak9e"
   },
   "outputs": [],
   "source": [
    "def SortByScore(sub_li):\n",
    "    sub_li.sort(key = lambda x: x[1], reverse = True)\n",
    "    return sub_li\n",
    "sorted_rank_list = SortByScore(rank_list)"
   ]
  },
  {
   "cell_type": "code",
   "execution_count": null,
   "metadata": {
    "colab": {
     "base_uri": "https://localhost:8080/",
     "height": 354
    },
    "executionInfo": {
     "elapsed": 3,
     "status": "ok",
     "timestamp": 1653809607147,
     "user": {
      "displayName": "吳孟諺",
      "userId": "06226608959340798116"
     },
     "user_tz": -480
    },
    "id": "40ILsFiRByTY",
    "outputId": "132830a9-6adc-4eb5-e7c5-548b7bb75f5f"
   },
   "outputs": [],
   "source": [
    "product_preferene_frame = pd.DataFrame(sorted_rank_list, columns = [\"product\", \"similarity\"]).head(10)\n",
    "product_preferene_frame"
   ]
  },
  {
   "cell_type": "code",
   "execution_count": null,
   "metadata": {
    "colab": {
     "base_uri": "https://localhost:8080/"
    },
    "executionInfo": {
     "elapsed": 3703,
     "status": "ok",
     "timestamp": 1654135470671,
     "user": {
      "displayName": "陳柏諭",
      "userId": "13870480101252211370"
     },
     "user_tz": -480
    },
    "id": "7yz7XqErtg7v",
    "outputId": "01affa48-490e-4986-cdee-2859845f7bce"
   },
   "outputs": [],
   "source": [
    "#最近一次的購買紀錄是否落在10個候選名單中，且購買越前面的產品所獲得的權重越高\n",
    "#簡單版：如果落在範圍內就是1，沒有就是0，用算出來的數字去除上訂單總數，即是準確率\n",
    "#複雜版：推薦越前面的權重應該越高，購買排序一的產品可以獲得10分，第10名1分，最後將全部的分數做加總，並看分數會落在甚麼區間（假如有100個人，最高分數就是1000，而接下來的區間可能就是800-1000算是這個演算法很棒，以此類推）\n",
    "purchase = Members_df[\"Behavior\"] == \"purchase\"\n",
    "print(Members_df[purchase])"
   ]
  },
  {
   "cell_type": "code",
   "execution_count": null,
   "metadata": {
    "colab": {
     "base_uri": "https://localhost:8080/"
    },
    "executionInfo": {
     "elapsed": 202638,
     "status": "ok",
     "timestamp": 1654155292317,
     "user": {
      "displayName": "吳孟諺",
      "userId": "06226608959340798116"
     },
     "user_tz": -480
    },
    "id": "4uvdboEfLOgu",
    "outputId": "7309da4f-61ec-4f96-ea6a-aeebd01a4f96"
   },
   "outputs": [],
   "source": [
    "from google.colab import drive\n",
    "drive.mount('/content/gdrive')\n",
    "!ls\n",
    "\n",
    "import os\n",
    "import pandas as pd\n",
    "import numpy as np\n",
    "from datetime import timedelta\n",
    "from datetime import datetime, date\n",
    "import random\n",
    "from random import sample \n",
    "import pandas as pd\n",
    "import random\n",
    "from sklearn.metrics.pairwise import cosine_similarity\n",
    "\n",
    "raw_path = os.path.join(os.path.join('/content/gdrive/MyDrive/BDA'))\n",
    "\n",
    "df_all = pd.DataFrame()\n",
    "ymd = ['20200701', '20200801', '20200901', '20201001', '20201101', '20201201', '20210101', \n",
    "       '20210201', '20210301', '20210401', '20210501', '20210601', '20210701', '20210801', \n",
    "       '20210901', '20211001', '20211101', '20211201', '20220101', '20220201', \n",
    "       '20220301', '20220401']\n",
    "usecols = ['MemberId', 'HitTime', 'Behavior', 'SalePageId', 'EventTime']\n",
    "\n",
    "#讀檔\n",
    "for i in ymd:\n",
    "    df = pd.read_csv(os.path.join(raw_path, \"91APP_BehaviorData_\" +ｉ+ \".csv\"), usecols = usecols)\n",
    "    #刪除NaN\n",
    "    df = df.dropna(axis=0,how='any')\n",
    "    #合併df\n",
    "    df_all = df_all.append([df])\n",
    "    print(i+' finished')\n",
    "#重新編號\n",
    "df_all.index = range(len(df_all))\n",
    "print(df_all)\n",
    "\n"
   ]
  },
  {
   "cell_type": "code",
   "execution_count": null,
   "metadata": {
    "executionInfo": {
     "elapsed": 2184,
     "status": "ok",
     "timestamp": 1654156821491,
     "user": {
      "displayName": "吳孟諺",
      "userId": "06226608959340798116"
     },
     "user_tz": -480
    },
    "id": "7qKxa-HBkJUh"
   },
   "outputs": [],
   "source": [
    "df_all['HitTime'] = pd.to_datetime(df_all['HitTime'],unit = 'ms')\n",
    "df_all[\"HitTime\"] = df_all[\"HitTime\"] + timedelta(hours = 8)\n",
    "\n",
    "df_all['EventTime'] = pd.to_datetime(df_all['EventTime'],unit = 'ms')\n",
    "df_all[\"EventTime\"] = df_all[\"EventTime\"] + timedelta(hours = 8)"
   ]
  },
  {
   "cell_type": "code",
   "execution_count": null,
   "metadata": {
    "executionInfo": {
     "elapsed": 7,
     "status": "ok",
     "timestamp": 1654156822996,
     "user": {
      "displayName": "吳孟諺",
      "userId": "06226608959340798116"
     },
     "user_tz": -480
    },
    "id": "J47_8CYm-0Ad"
   },
   "outputs": [],
   "source": [
    "st = datetime(2020,7,1)\n",
    "et = datetime(2022,4,30)"
   ]
  },
  {
   "cell_type": "code",
   "execution_count": null,
   "metadata": {
    "colab": {
     "base_uri": "https://localhost:8080/"
    },
    "id": "hyhmW90Y-Eur",
    "outputId": "6f8f150f-28e0-488c-a493-fe67f637f377"
   },
   "outputs": [],
   "source": [
    "temp_time = st\n",
    "time_list = []\n",
    "time_list.append(st) \n",
    "pages = pd.read_csv(os.path.join('/content', 'SalePageData.csv'))\n",
    "\n",
    "while True:\n",
    "  if temp_time + timedelta(days = 60) < et:  \n",
    "    temp_time = temp_time + timedelta(days = 60)\n",
    "    time_list.append(temp_time)\n",
    "  else:\n",
    "    break\n",
    "\n",
    "for time in range(len(time_list)-1):\n",
    "  df_temp = df_all[(df_all[\"EventTime\"] > time_list[time]) & (df_all[\"EventTime\"] < time_list[time+1])]\n",
    "  df_temp = df_temp.merge(pages, left_on = \"SalePageId\", right_on = \"SalePageId\")\n",
    "\n",
    "  ever_purchase_memberId_list = df_temp[df_temp[\"Behavior\"]==\"purchase\"].MemberId.unique()\n",
    "  random.seed(1)\n",
    "  sampling_list = sample([i for i in range(len(ever_purchase_memberId_list))],100)\n",
    "  \n",
    "  for person in sampling_list:\n",
    "    personal_temp = df_temp[df_temp[\"MemberId\"] == ever_purchase_memberId_list[person]]\n",
    "    #print(time_list[time], time_list[time+1], personal_temp)\n",
    "    # 只留下曾有購買紀錄的member\n",
    "    Members_df = personal_temp.set_index(\"MemberId\")\n",
    "    Members_df = Members_df.reset_index()\n",
    "\n",
    "    # 與關鍵字向量合併\n",
    "    score_dict = {\"checkout\":1, \"viewproduct\":2, \"add\":4, \"purchase\":8}\n",
    "    merge_df = Members_df.merge(item_df, on=\"SalePageId\")\n",
    "    merge_df = merge_df.loc[:,[\"MemberId\", \"Behavior\", \"Vector_avg\"]]\n",
    "    merge_df[\"score\"] = merge_df.Behavior.apply(lambda x : score_dict[x])\n",
    "    merge_vector_df = merge_df.groupby(\"MemberId\").apply(lambda x: np.average(x['Vector_avg'], weights=x['score']))\n",
    "    rank_list = []\n",
    "    for product in range(1, item_df.shape[0]):\n",
    "        if product not in [635, 1423]:\n",
    "          rank_list.append([item_df[\"SalePageTitle\"][product],float(cosine_similarity(merge_vector_df[0].reshape(1,-1), item_df[\"Vector_avg\"][product].reshape(1,-1)))])\n",
    "    print(rank_list)\n",
    "\n",
    "  #抽人出來算該會員的向量（去search item_df，並加權平均）\n",
    "\n",
    "  #對於每個人output我們推的產品\n",
    "  \n",
    "  #對應該會員購買的資料，去計算準確率以及複雜版本的指標\n",
    "\n",
    "\n",
    "  \"\"\"\n",
    "  TODO : \n",
    "    1. item\n",
    "    3. member (from item, input:df_temp)\n",
    "    2. similarity\n",
    "  \"\"\"\n",
    "\n"
   ]
  },
  {
   "cell_type": "code",
   "execution_count": null,
   "metadata": {
    "colab": {
     "base_uri": "https://localhost:8080/",
     "height": 433
    },
    "executionInfo": {
     "elapsed": 8,
     "status": "ok",
     "timestamp": 1654151558470,
     "user": {
      "displayName": "吳孟諺",
      "userId": "06226608959340798116"
     },
     "user_tz": -480
    },
    "id": "KPRZOnmN_0HM",
    "outputId": "48d8a25e-e9cd-4dea-d4b8-8667b1d3db21"
   },
   "outputs": [],
   "source": [
    "pages"
   ]
  },
  {
   "cell_type": "code",
   "execution_count": null,
   "metadata": {
    "id": "yzwXon7PGosW"
   },
   "outputs": [],
   "source": []
  }
 ],
 "metadata": {
  "colab": {
   "collapsed_sections": [
    "ANdzZYkJf4gt",
    "fY0WIF1Hn-4y"
   ],
   "name": "BDA_Final.ipynb",
   "provenance": []
  },
  "kernelspec": {
   "display_name": "Python 3",
   "name": "python3"
  },
  "language_info": {
   "name": "python"
  }
 },
 "nbformat": 4,
 "nbformat_minor": 0
}
